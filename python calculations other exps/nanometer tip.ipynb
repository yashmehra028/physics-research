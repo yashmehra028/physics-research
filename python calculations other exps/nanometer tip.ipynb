{
 "cells": [
  {
   "cell_type": "markdown",
   "metadata": {},
   "source": [
    "Coulumb Calculations"
   ]
  },
  {
   "cell_type": "code",
   "execution_count": 15,
   "metadata": {},
   "outputs": [
    {
     "data": {
      "text/plain": [
       "(3.590034000000013e-08,\n",
       " 0.1002689396296507,\n",
       " 17.645510874067593,\n",
       " 0.027929784247023748,\n",
       " 4.915167312878782)"
      ]
     },
     "execution_count": 15,
     "metadata": {},
     "output_type": "execute_result"
    }
   ],
   "source": [
    "# nanometer coulumb on \n",
    "import numpy as np\n",
    "import matplotlib.pyplot as plt\n",
    "\n",
    "x_axis = []\n",
    "y_axis = []\n",
    "v_x_list = []\n",
    "v_y_list = []\n",
    "\n",
    "potential_energy_distance = 10\n",
    "detector_distance = 0.1\n",
    "R_tip = 100*10**-9\n",
    "x = R_tip\n",
    "y = R_tip\n",
    "initial_y = y\n",
    "initial_x = x\n",
    "v_x = 4*10**5\n",
    "v_y = 4*10**5\n",
    "number_electrons = 10**6\n",
    "\n",
    "time_res_1 = 10**-14\n",
    "time_res_2 = 10**-10\n",
    "\n",
    "x_off = []\n",
    "y_off = []\n",
    "\n",
    "V_tip = 200\n",
    "\n",
    "def shell_charge_acceleration(charge,seperation):\n",
    "    e = 1.6*10**-19\n",
    "    m = 9.1*10**(-31)\n",
    "    k = 9*10**9\n",
    "    return k*(charge)*e**2/(m*seperation**2)\n",
    "\n",
    "def tip_acceleration(seperation,V_tip,R_tip):\n",
    "    e = 1.6*10**-19\n",
    "    m = 9.1*10**(-31)\n",
    "    return V_tip*R_tip*e/(m*seperation**2)\n",
    "\n",
    "t = 0\n",
    "while x < detector_distance:\n",
    "\n",
    "    old_y = y\n",
    "    old_x = x\n",
    "\n",
    "    if x <= potential_energy_distance*R_tip:\n",
    "        \n",
    "        t += time_res_1\n",
    "        y = y + v_y*time_res_1\n",
    "        v_y = v_y + (tip_acceleration(np.sqrt(old_x**2+old_y**2),V_tip,R_tip)*np.sin(np.arctan(old_y/old_x))+shell_charge_acceleration(number_electrons,old_y))*time_res_1\n",
    "\n",
    "        x = x + v_x*time_res_1\n",
    "        v_x = v_x + tip_acceleration(np.sqrt(old_x**2+old_y**2),V_tip,R_tip)*np.cos(np.arctan(old_y/old_x))*time_res_1\n",
    "    \n",
    "    else:\n",
    "\n",
    "        t += time_res_2\n",
    "        y = y + v_y*time_res_2\n",
    "        v_y = v_y + (tip_acceleration(np.sqrt(old_x**2+old_y**2),0,R_tip)*np.sin(np.arctan(old_y/old_x))+shell_charge_acceleration(number_electrons,old_y))*time_res_2\n",
    "\n",
    "\n",
    "        x = x + v_x*time_res_2\n",
    "        v_x = v_x + tip_acceleration(np.sqrt(old_x**2+old_y**2),0,R_tip)*np.cos(np.arctan(old_y/old_x))*time_res_2\n",
    "\n",
    "    x_axis.append(x)\n",
    "    y_axis.append(y)\n",
    "    v_x_list.append(v_x)\n",
    "    v_y_list.append(v_y)\n",
    "\n",
    "final_radii_on = y_axis[-1]\n",
    "t,x_axis[-1],y_axis[-1],v_x_list[-1]/10**8,v_y_list[-1]/10**8"
   ]
  },
  {
   "cell_type": "code",
   "execution_count": 16,
   "metadata": {},
   "outputs": [
    {
     "data": {
      "text/plain": [
       "(1.8100199999999974e-08,\n",
       " 0.10045896962830003,\n",
       " 0.10045896962830003,\n",
       " 0.05550163127928266,\n",
       " 0.05550163127928266)"
      ]
     },
     "execution_count": 16,
     "metadata": {},
     "output_type": "execute_result"
    }
   ],
   "source": [
    "# nanometer coulumb off\n",
    "import numpy as np\n",
    "import matplotlib.pyplot as plt\n",
    "\n",
    "x_axis = []\n",
    "y_axis = []\n",
    "v_x_list = []\n",
    "v_y_list = []\n",
    "\n",
    "x = R_tip\n",
    "y = R_tip\n",
    "\n",
    "v_x = 4*10**5\n",
    "v_y = 4*10**5\n",
    "number_electrons = 0\n",
    "\n",
    "V_tip = 200\n",
    "\n",
    "def shell_charge_acceleration(charge,seperation):\n",
    "    e = 1.6*10**-19\n",
    "    m = 9.1*10**(-31)\n",
    "    k = 9*10**9\n",
    "    return k*(charge)*e**2/(m*seperation**2)\n",
    "\n",
    "def tip_acceleration(seperation,V_tip,R_tip):\n",
    "    e = 1.6*10**-19\n",
    "    m = 9.1*10**(-31)\n",
    "    return V_tip*R_tip*e/(m*seperation**2)\n",
    "\n",
    "t = 0\n",
    "while x < detector_distance:\n",
    "\n",
    "    old_y = y\n",
    "    old_x = x\n",
    "\n",
    "    if x <= potential_energy_distance*R_tip:\n",
    "        \n",
    "        t += time_res_1\n",
    "        y = y + v_y*time_res_1\n",
    "        v_y = v_y + (tip_acceleration(np.sqrt(old_x**2+old_y**2),V_tip,R_tip)*np.sin(np.arctan(old_y/old_x))+shell_charge_acceleration(number_electrons,old_y))*time_res_1\n",
    "\n",
    "        x = x + v_x*time_res_1\n",
    "        v_x = v_x + tip_acceleration(np.sqrt(old_x**2+old_y**2),V_tip,R_tip)*np.cos(np.arctan(old_y/old_x))*time_res_1\n",
    "    \n",
    "    else:\n",
    "\n",
    "        t += time_res_2\n",
    "        y = y + v_y*time_res_2\n",
    "        v_y = v_y + (tip_acceleration(np.sqrt(old_x**2+old_y**2),0,R_tip)*np.sin(np.arctan(old_y/old_x))+shell_charge_acceleration(number_electrons,old_y))*time_res_2\n",
    "\n",
    "\n",
    "        x = x + v_x*time_res_2\n",
    "        v_x = v_x + tip_acceleration(np.sqrt(old_x**2+old_y**2),0,R_tip)*np.cos(np.arctan(old_y/old_x))*time_res_2\n",
    "\n",
    "    x_axis.append(x)\n",
    "    y_axis.append(y)\n",
    "    v_x_list.append(v_x)\n",
    "    v_y_list.append(v_y)\n",
    "\n",
    "final_radii_off = y_axis[-1]\n",
    "t,x_axis[-1],y_axis[-1],v_x_list[-1]/10**8,v_y_list[-1]/10**8"
   ]
  },
  {
   "cell_type": "markdown",
   "metadata": {},
   "source": [
    "Quantum Calculation"
   ]
  },
  {
   "cell_type": "code",
   "execution_count": 17,
   "metadata": {},
   "outputs": [
    {
     "name": "stdout",
     "output_type": "stream",
     "text": [
      "radii Coul on is 17.645510874067593 and radii Coul off is 0.10045896962830003\n",
      "0.09999999999999999\n",
      "28509013\n",
      "dip: 0.0\n"
     ]
    }
   ],
   "source": [
    "\n",
    "print(f'radii Coul on is {final_radii_on} and radii Coul off is {final_radii_off}')\n",
    "\n",
    "detector_seperation = 0.01\n",
    "\n",
    "phi = detector_seperation/detector_distance\n",
    "\n",
    "L = 100*10**-9\n",
    "t_pulse = 100*10**-15\n",
    "E_source = 3*1.6*(10**-19)\n",
    "delta_E = 3*1.6*(10**-19)\n",
    "m = 9.1*10**-31\n",
    "h_bar = 6.63*10**-34/6.28\n",
    "packets = (L**2)*t_pulse*16*(E_source*delta_E)*m*(phi**2)/h_bar**3\n",
    "packets = int(packets)\n",
    "print(f'{packets}')\n",
    "\n",
    "n = 10**6\n",
    "dip = 2.718281828459045**(-n*(n-1)/packets)\n",
    "print(f'dip: {dip}')"
   ]
  }
 ],
 "metadata": {
  "interpreter": {
   "hash": "c03106853b502d48878fd46ab811d2721c76389dc5a26d37ccfdca6b9e6d40a4"
  },
  "kernelspec": {
   "display_name": "Python 3.9.4 64-bit",
   "language": "python",
   "name": "python3"
  },
  "language_info": {
   "codemirror_mode": {
    "name": "ipython",
    "version": 3
   },
   "file_extension": ".py",
   "mimetype": "text/x-python",
   "name": "python",
   "nbconvert_exporter": "python",
   "pygments_lexer": "ipython3",
   "version": "3.9.4"
  },
  "orig_nbformat": 4
 },
 "nbformat": 4,
 "nbformat_minor": 2
}
