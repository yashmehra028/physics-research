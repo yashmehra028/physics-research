{
 "cells": [
  {
   "cell_type": "markdown",
   "metadata": {},
   "source": [
    "Coulumb Calculations"
   ]
  },
  {
   "cell_type": "code",
   "execution_count": 4,
   "metadata": {},
   "outputs": [
    {
     "data": {
      "text/plain": [
       "(2.0374042699998655e-06,\n",
       " 9.999783708405456,\n",
       " 10.36646560067925,\n",
       " 0.049083412861852624,\n",
       " 0.050883283378498234)"
      ]
     },
     "execution_count": 4,
     "metadata": {},
     "output_type": "execute_result"
    }
   ],
   "source": [
    "# micron coulumb on \n",
    "import numpy as np\n",
    "import matplotlib.pyplot as plt\n",
    "\n",
    "x_axis = []\n",
    "y_axis = []\n",
    "v_x_list = []\n",
    "v_y_list = []\n",
    "\n",
    "potential_energy_distance = 20\n",
    "detector_distance = 10\n",
    "R_tip = 10**-6\n",
    "x = R_tip\n",
    "y = R_tip\n",
    "v_x = 4*10**5\n",
    "v_y = 4*10**5\n",
    "number_electrons = 10**3\n",
    "\n",
    "time_res_1 = 10**-14\n",
    "time_res_2 = 10**-10\n",
    "\n",
    "V_tip = 200\n",
    "\n",
    "def shell_charge_acceleration(charge,seperation):\n",
    "    e = 1.6*10**-19\n",
    "    m = 9.1*10**(-31)\n",
    "    k = 9*10**9\n",
    "    return k*(charge)*e**2/(m*seperation**2)\n",
    "\n",
    "def tip_acceleration(seperation,V_tip,R_tip):\n",
    "    e = 1.6*10**-19\n",
    "    m = 9.1*10**(-31)\n",
    "    return V_tip*R_tip*e/(m*seperation**2)\n",
    "\n",
    "t = 0\n",
    "while x < detector_distance:\n",
    "\n",
    "    old_y = y\n",
    "    old_x = x\n",
    "\n",
    "    y_axis.append(old_y)\n",
    "    v_y_list.append(v_y)\n",
    "    x_axis.append(old_x)\n",
    "    v_x_list.append(v_x)\n",
    "\n",
    "    if x <= potential_energy_distance*R_tip:\n",
    "        \n",
    "        t += time_res_1\n",
    "        y = y + v_y*time_res_1\n",
    "        v_y = v_y + (tip_acceleration(np.sqrt(old_x**2+old_y**2),V_tip,R_tip)*np.sin(np.arctan(old_y/old_x))+shell_charge_acceleration(number_electrons,old_y))*time_res_1\n",
    "\n",
    "        x = x + v_x*time_res_1\n",
    "        v_x = v_x + tip_acceleration(np.sqrt(old_x**2+old_y**2),V_tip,R_tip)*np.cos(np.arctan(old_y/old_x))*time_res_1\n",
    "    \n",
    "    else:\n",
    "\n",
    "        t += time_res_2\n",
    "        y = y + v_y*time_res_2\n",
    "        v_y = v_y + (tip_acceleration(np.sqrt(old_x**2+old_y**2),0,R_tip)*np.sin(np.arctan(old_y/old_x))+shell_charge_acceleration(number_electrons,old_y))*time_res_2\n",
    "\n",
    "\n",
    "        x = x + v_x*time_res_2\n",
    "        v_x = v_x + tip_acceleration(np.sqrt(old_x**2+old_y**2),0,R_tip)*np.cos(np.arctan(old_y/old_x))*time_res_2\n",
    "\n",
    "\n",
    "final_radii_on = y_axis[-1]\n",
    "t,x_axis[-1],y_axis[-1],v_x_list[-1]/10**8,v_y_list[-1]/10**8"
   ]
  },
  {
   "cell_type": "code",
   "execution_count": 5,
   "metadata": {},
   "outputs": [
    {
     "data": {
      "text/plain": [
       "(2.0236042499998936e-06,\n",
       " 9.99964956594017,\n",
       " 9.99964956594017,\n",
       " 0.04941749218146624,\n",
       " 0.04941749218146624)"
      ]
     },
     "execution_count": 5,
     "metadata": {},
     "output_type": "execute_result"
    }
   ],
   "source": [
    "# micron coulumb off \n",
    "import numpy as np\n",
    "import matplotlib.pyplot as plt\n",
    "\n",
    "x_axis = []\n",
    "y_axis = []\n",
    "v_x_list = []\n",
    "v_y_list = []\n",
    "\n",
    "x = R_tip\n",
    "y = R_tip\n",
    "v_x = 4*10**5\n",
    "v_y = 4*10**5\n",
    "number_electrons = 0\n",
    "\n",
    "t = 0\n",
    "while x < detector_distance:\n",
    "\n",
    "    old_y = y\n",
    "    old_x = x\n",
    "\n",
    "    y_axis.append(old_y)\n",
    "    v_y_list.append(v_y)\n",
    "    x_axis.append(old_x)\n",
    "    v_x_list.append(v_x)\n",
    "\n",
    "    if x <= potential_energy_distance*R_tip:\n",
    "        \n",
    "        t += time_res_1\n",
    "        y = y + v_y*time_res_1\n",
    "        v_y = v_y + (tip_acceleration(np.sqrt(old_x**2+old_y**2),V_tip,R_tip)*np.sin(np.arctan(old_y/old_x))+shell_charge_acceleration(number_electrons,old_y))*time_res_1\n",
    "\n",
    "        x = x + v_x*time_res_1\n",
    "        v_x = v_x + tip_acceleration(np.sqrt(old_x**2+old_y**2),V_tip,R_tip)*np.cos(np.arctan(old_y/old_x))*time_res_1\n",
    "    \n",
    "    else:\n",
    "\n",
    "        t += time_res_2\n",
    "        y = y + v_y*time_res_2\n",
    "        v_y = v_y + (tip_acceleration(np.sqrt(old_x**2+old_y**2),0,R_tip)*np.sin(np.arctan(old_y/old_x))+shell_charge_acceleration(number_electrons,old_y))*time_res_2\n",
    "\n",
    "\n",
    "        x = x + v_x*time_res_2\n",
    "        v_x = v_x + tip_acceleration(np.sqrt(old_x**2+old_y**2),0,R_tip)*np.cos(np.arctan(old_y/old_x))*time_res_2\n",
    "\n",
    "\n",
    "final_radii_off = y_axis[-1]\n",
    "t,x_axis[-1],y_axis[-1],v_x_list[-1]/10**8,v_y_list[-1]/10**8"
   ]
  },
  {
   "cell_type": "markdown",
   "metadata": {},
   "source": [
    "Qauntum Calculations"
   ]
  },
  {
   "cell_type": "code",
   "execution_count": 6,
   "metadata": {},
   "outputs": [
    {
     "name": "stdout",
     "output_type": "stream",
     "text": [
      "radii Coul on is 10.36646560067925 and radii Coul off is 9.99964956594017\n",
      "packets: 285090\n",
      "dip: 0.030072126019635468\n"
     ]
    }
   ],
   "source": [
    "##quantum\n",
    "#start here\n",
    "\n",
    "\n",
    "detector_seperation = 0.01\n",
    "phi = detector_seperation/detector_distance\n",
    "print(f'radii Coul on is {final_radii_on} and radii Coul off is {final_radii_off}')\n",
    "\n",
    "\n",
    "L = R_tip\n",
    "t_pulse = 100*10**-15\n",
    "E_source = 3*1.6*(10**-19)\n",
    "delta_E = 3*1.6*(10**-19)\n",
    "m = 9.1*10**-31\n",
    "h_bar = 6.63*10**-34/6.28\n",
    "packets = (L**2)*t_pulse*16*(E_source*delta_E)*m*(phi**2)/h_bar**3\n",
    "packets = int(packets)\n",
    "print(f'packets: {packets}')\n",
    "\n",
    "\n",
    "n = 10**3\n",
    "dip = 2.718281828459045**(-n*(n-1)/packets)\n",
    "print(f'dip: {dip}')"
   ]
  }
 ],
 "metadata": {
  "interpreter": {
   "hash": "c03106853b502d48878fd46ab811d2721c76389dc5a26d37ccfdca6b9e6d40a4"
  },
  "kernelspec": {
   "display_name": "Python 3.9.4 64-bit",
   "language": "python",
   "name": "python3"
  },
  "language_info": {
   "codemirror_mode": {
    "name": "ipython",
    "version": 3
   },
   "file_extension": ".py",
   "mimetype": "text/x-python",
   "name": "python",
   "nbconvert_exporter": "python",
   "pygments_lexer": "ipython3",
   "version": "3.9.4"
  },
  "orig_nbformat": 4
 },
 "nbformat": 4,
 "nbformat_minor": 2
}
