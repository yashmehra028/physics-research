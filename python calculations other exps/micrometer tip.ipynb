{
 "cells": [
  {
   "cell_type": "markdown",
   "metadata": {},
   "source": [
    "Coulumb Calculations"
   ]
  },
  {
   "cell_type": "code",
   "execution_count": 4,
   "metadata": {},
   "outputs": [
    {
     "data": {
      "text/plain": [
       "(1.3642699999999823e-09,\n",
       " 0.1375060917537217,\n",
       " 0.009174134525949765,\n",
       " 1.8752439560399288,\n",
       " 0.07259674035204615)"
      ]
     },
     "execution_count": 4,
     "metadata": {},
     "output_type": "execute_result"
    }
   ],
   "source": [
    "# micrometer with coulumb on\n",
    "import numpy as np\n",
    "import matplotlib.pyplot as plt\n",
    "\n",
    "x_axis = []\n",
    "y_axis = []\n",
    "v_x_list = []\n",
    "v_y_list = []\n",
    "\n",
    "detector_distance = 0.15\n",
    "\n",
    "R_tip = 10**-6\n",
    "x = R_tip\n",
    "y = R_tip\n",
    "\n",
    "v_x = 4*10**5\n",
    "v_y = 4*10**5\n",
    "number_electrons = 10**5\n",
    "cathode_distance = 0.1\n",
    "V_tip = 10**6 * cathode_distance\n",
    "\n",
    "time_res_1 = 10**-14\n",
    "time_res_2 = 10**-10\n",
    "\n",
    "def y_axis_acceleration(charge,seperation):\n",
    "    e = 1.6*10**-19\n",
    "    m = 9.1*10**(-31)\n",
    "    k = 9*10**9\n",
    "    return k*(charge-1)*e**2/(m*seperation**2)\n",
    "\n",
    "def x_axis_acceleration(V_tip,cathode_distance):\n",
    "    e = 1.6*10**-19\n",
    "    m = 9.1*10**(-31)\n",
    "    return (e*V_tip)/(m*cathode_distance)\n",
    "\n",
    "\n",
    "t = 0\n",
    "while x <= detector_distance:\n",
    "\n",
    "    old_y = y\n",
    "    old_x = x\n",
    "\n",
    "    y_axis.append(old_y)\n",
    "    v_y_list.append(v_y)\n",
    "    x_axis.append(old_x)\n",
    "    v_x_list.append(v_x)\n",
    "    \n",
    "\n",
    "    if x <= cathode_distance:\n",
    "        t += time_res_1\n",
    "        y = y + v_y*time_res_1\n",
    "        v_y = v_y + y_axis_acceleration(number_electrons,old_y)*time_res_1\n",
    "\n",
    "        x = x + v_x*time_res_1\n",
    "        v_x = v_x + x_axis_acceleration(V_tip,cathode_distance)*time_res_1\n",
    "    \n",
    "    else:\n",
    "        t += time_res_2\n",
    "        y = y + v_y*time_res_2\n",
    "        v_y = v_y + y_axis_acceleration(number_electrons,old_y)*time_res_2\n",
    "\n",
    "        x = x + v_x*time_res_2\n",
    "        v_x = v_x + x_axis_acceleration(0,cathode_distance)*time_res_2\n",
    "    \n",
    "    \n",
    "\n",
    "final_radii_on = y_axis[-1]\n",
    "t,x_axis[-1],y_axis[-1],v_x_list[-1]/10**8,v_y_list[-1]/10**8"
   ]
  },
  {
   "cell_type": "code",
   "execution_count": 5,
   "metadata": {},
   "outputs": [
    {
     "data": {
      "text/plain": [
       "(1.3642699999999823e-09,\n",
       " 0.1375060917537217,\n",
       " 0.0005059154186516537,\n",
       " 1.8752439560399288,\n",
       " 0.003993664950390505)"
      ]
     },
     "execution_count": 5,
     "metadata": {},
     "output_type": "execute_result"
    }
   ],
   "source": [
    "# micrometer with coulumb off\n",
    "import numpy as np\n",
    "import matplotlib.pyplot as plt\n",
    "\n",
    "x_axis = []\n",
    "y_axis = []\n",
    "v_x_list = []\n",
    "v_y_list = []\n",
    "\n",
    "x = R_tip\n",
    "y = R_tip\n",
    "\n",
    "v_x = 4*10**5\n",
    "v_y = 4*10**5\n",
    "number_electrons = 0\n",
    "\n",
    "t = 0\n",
    "while x <= detector_distance:\n",
    "\n",
    "    old_y = y\n",
    "    old_x = x\n",
    "\n",
    "    y_axis.append(old_y)\n",
    "    v_y_list.append(v_y)\n",
    "    x_axis.append(old_x)\n",
    "    v_x_list.append(v_x)\n",
    "    \n",
    "\n",
    "    if x <= cathode_distance:\n",
    "        t += time_res_1\n",
    "        y = y + v_y*time_res_1\n",
    "        v_y = v_y + y_axis_acceleration(number_electrons,old_y)*time_res_1\n",
    "\n",
    "        x = x + v_x*time_res_1\n",
    "        v_x = v_x + x_axis_acceleration(V_tip,cathode_distance)*time_res_1\n",
    "    \n",
    "    else:\n",
    "        t += time_res_2\n",
    "        y = y + v_y*time_res_2\n",
    "        v_y = v_y + y_axis_acceleration(number_electrons,old_y)*time_res_2\n",
    "\n",
    "        x = x + v_x*time_res_2\n",
    "        v_x = v_x + x_axis_acceleration(0,cathode_distance)*time_res_2\n",
    "    \n",
    "    \n",
    "\n",
    "final_radii_off = y_axis[-1]\n",
    "t,x_axis[-1],y_axis[-1],v_x_list[-1]/10**8,v_y_list[-1]/10**8"
   ]
  },
  {
   "cell_type": "markdown",
   "metadata": {},
   "source": [
    "Quantum Calculations"
   ]
  },
  {
   "cell_type": "code",
   "execution_count": 6,
   "metadata": {},
   "outputs": [
    {
     "name": "stdout",
     "output_type": "stream",
     "text": [
      "radii Coul on is 0.009174134525949765 and radii Coul off is 0.0005059154186516537\n",
      "packets: 1267067284\n",
      "dip: 0.00037366092600649224\n"
     ]
    }
   ],
   "source": [
    "##quantum\n",
    "#start here\n",
    "\n",
    "\n",
    "detector_seperation = 0.01\n",
    "phi = detector_seperation/detector_distance\n",
    "print(f'radii Coul on is {final_radii_on} and radii Coul off is {final_radii_off}')\n",
    "\n",
    "L = R_tip\n",
    "t_pulse = 100*10**-15\n",
    "E_source = 3*1.6*(10**-19)\n",
    "delta_E = 3*1.6*(10**-19)\n",
    "m = 9.1*10**-31\n",
    "h_bar = 6.63*10**-34/6.28\n",
    "packets = (L**2)*t_pulse*16*(E_source*delta_E)*m*(phi**2)/h_bar**3\n",
    "packets = int(packets)\n",
    "print(f'packets: {packets}')\n",
    "\n",
    "n = 10**5\n",
    "dip = 2.718281828459045**(-n*(n-1)/packets)\n",
    "print(f'dip: {dip}')"
   ]
  }
 ],
 "metadata": {
  "interpreter": {
   "hash": "c03106853b502d48878fd46ab811d2721c76389dc5a26d37ccfdca6b9e6d40a4"
  },
  "kernelspec": {
   "display_name": "Python 3.9.4 64-bit",
   "language": "python",
   "name": "python3"
  },
  "language_info": {
   "codemirror_mode": {
    "name": "ipython",
    "version": 3
   },
   "file_extension": ".py",
   "mimetype": "text/x-python",
   "name": "python",
   "nbconvert_exporter": "python",
   "pygments_lexer": "ipython3",
   "version": "3.9.4"
  },
  "orig_nbformat": 4
 },
 "nbformat": 4,
 "nbformat_minor": 2
}
